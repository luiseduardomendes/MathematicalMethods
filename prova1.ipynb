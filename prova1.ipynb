{
 "cells": [
  {
   "cell_type": "markdown",
   "metadata": {},
   "source": [
    "### Questão 1\n",
    "Menor número positivo = (1)^(0) 1.00000...0 * 2 ^ (2^10 - 2^8)"
   ]
  },
  {
   "cell_type": "code",
   "execution_count": 2,
   "metadata": {},
   "outputs": [],
   "source": [
    "E = 8\n",
    "s = 1\n",
    "M = 23\n"
   ]
  },
  {
   "cell_type": "markdown",
   "metadata": {},
   "source": [
    "### Questão 2\n",
    "$$\\dfrac{x-x_}{x} > 5 \\cdot 10^{-s}$$\n",
    "$$\\log 0.2 \\cdot \\dfrac{x-x_}{ x} > -s$$\n",
    "$$-\\log 0.2 \\cdot \\dfrac{x-x_}{x} > s$$"
   ]
  },
  {
   "cell_type": "code",
   "execution_count": 3,
   "metadata": {},
   "outputs": [
    {
     "data": {
      "text/plain": [
       "4"
      ]
     },
     "execution_count": 3,
     "metadata": {},
     "output_type": "execute_result"
    }
   ],
   "source": [
    "import math\n",
    "def digitos_significativos(x, x_):\n",
    "    return math.floor(-math.log10( 1/5 * ((x-x_) / x) ))\n",
    "digitos_significativos(2, 1.999765)"
   ]
  },
  {
   "cell_type": "markdown",
   "metadata": {},
   "source": [
    "### Questão 3\n"
   ]
  },
  {
   "cell_type": "code",
   "execution_count": 4,
   "metadata": {},
   "outputs": [
    {
     "data": {
      "text/plain": [
       "y**3*exp(2*x)/(-y**3 + 1)"
      ]
     },
     "execution_count": 4,
     "metadata": {},
     "output_type": "execute_result"
    }
   ],
   "source": [
    "import sympy as sp\n",
    "x = sp.Symbol('x')\n",
    "y = sp.Symbol('y')\n",
    "z = y**3 * sp.exp(2*x)/ (1 - y**3)\n",
    "z"
   ]
  },
  {
   "cell_type": "code",
   "execution_count": 5,
   "metadata": {},
   "outputs": [
    {
     "data": {
      "text/plain": [
       "0.040032051282051284"
      ]
     },
     "execution_count": 5,
     "metadata": {},
     "output_type": "execute_result"
    }
   ],
   "source": [
    "import numpy as np\n",
    "dy = 0.07\n",
    "dx = 0.02\n",
    "p1 = np.abs(float((z.diff(x)/z).subs(x, 3).subs(y, 9)))\n",
    "p2 = np.abs(float((z.diff(y)/z).subs(x, 3).subs(y, 9)))\n",
    "p1 * dx + p2 * dy"
   ]
  },
  {
   "cell_type": "markdown",
   "metadata": {},
   "source": [
    "### Questão 8\n",
    "Não é possível resolver usando o método de Jacobi pois ele inclui uma divisão pelo elemento pivô de cada linha, que pode ser nulo em alguma etapa do processamento.\n",
    "Contudo, é possível ultrapassar esse impedimento usando o método de troca de linhas, que não altera o resultado da equação $A\\vec{x} = \\vec{b}$."
   ]
  },
  {
   "cell_type": "markdown",
   "metadata": {},
   "source": [
    "### Questão 9\n",
    "A ordem da solução linear por fatoração LU é da ordem de $O(n^3)$, ou seja $O(253^3)$, tal como a solução por eliminação gaussiana. Contudo, diferentemente do sistema por eliminação gaussiana, a fatoração LU de uma matriz pode ser reaproveitada para repetir o processo em diferentes vetores $\\vec{b}$ com uma complexidade linear $O(n)\\rightarrow O(253)$.\n",
    "\n"
   ]
  },
  {
   "cell_type": "code",
   "execution_count": 23,
   "metadata": {},
   "outputs": [],
   "source": []
  }
 ],
 "metadata": {
  "kernelspec": {
   "display_name": "Python 3",
   "language": "python",
   "name": "python3"
  },
  "language_info": {
   "codemirror_mode": {
    "name": "ipython",
    "version": 3
   },
   "file_extension": ".py",
   "mimetype": "text/x-python",
   "name": "python",
   "nbconvert_exporter": "python",
   "pygments_lexer": "ipython3",
   "version": "3.6.4"
  }
 },
 "nbformat": 4,
 "nbformat_minor": 2
}
