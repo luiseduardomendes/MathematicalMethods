{
 "cells": [
  {
   "cell_type": "markdown",
   "metadata": {},
   "source": [
    "# Integração Numérica\n"
   ]
  },
  {
   "cell_type": "markdown",
   "metadata": {},
   "source": [
    "## 9.1 Somas de Riemann\n",
    "\n"
   ]
  },
  {
   "cell_type": "code",
   "execution_count": 1,
   "metadata": {},
   "outputs": [
    {
     "data": {
      "image/png": "[encoded data removed]",
      "text/plain": [
       "<Figure size 432x288 with 1 Axes>"
      ]
     },
     "metadata": {
      "needs_background": "light"
     },
     "output_type": "display_data"
    }
   ],
   "source": [
    "import matplotlib.pyplot as plt\n",
    "import numpy as np\n",
    "import sympy as sp\n",
    "\n",
    "sp.init_printing()\n",
    "\n",
    "x = sp.Symbol('x')\n",
    "x_ = np.linspace(0, 1, 100)\n",
    "y_ = np.sin(x_) * np.exp(-x_)\n",
    "\n",
    "plt.plot(x_, y_)\n",
    "plt.grid()\n",
    "plt.show()"
   ]
  },
  {
   "cell_type": "markdown",
   "metadata": {},
   "source": [
    "## 9.2 Regras de Newton-Cotes\n"
   ]
  },
  {
   "cell_type": "code",
   "execution_count": 2,
   "metadata": {},
   "outputs": [],
   "source": [
    "def lagrangian_polynomial(x0, y0, x):\n",
    "    n = len(x0)\n",
    "\n",
    "    L = [1 for _ in range(n)]\n",
    "    for k in range(n):\n",
    "        for j in range(n):\n",
    "            if (k != j):\n",
    "                L[k] *= (x - x0[j])/(x0[k] - x0[j])\n",
    "    p = 0\n",
    "    for k in range(n):\n",
    "        p += L[k] * y0[k]\n",
    "    p = sp.simplify(p)\n",
    "    return p"
   ]
  },
  {
   "cell_type": "code",
   "execution_count": 3,
   "metadata": {},
   "outputs": [
    {
     "data": {
      "text/plain": [
       "[<matplotlib.lines.Line2D at 0x7fda5666abe0>]"
      ]
     },
     "execution_count": 3,
     "metadata": {},
     "output_type": "execute_result"
    },
    {
     "data": {
      "image/png": "[encoded data removed]",
      "text/plain": [
       "<Figure size 432x288 with 1 Axes>"
      ]
     },
     "metadata": {
      "needs_background": "light"
     },
     "output_type": "display_data"
    }
   ],
   "source": [
    "f = sp.cos(x)\n",
    "x_axis = np.linspace(0, 1, 4)\n",
    "y_axis = [f.subs(x, x0) for x0 in x_axis]\n",
    "p = lagrangian_polynomial(x_axis, y_axis, x)\n",
    "h = x_axis[1] - x_axis[0]\n",
    "\n",
    "x_axis_3 = np.linspace(0, 1, 100)\n",
    "y_axis_3 = [f.subs(x, x0) for x0 in x_axis_3]\n",
    "\n",
    "x_axis_2 = x_axis + h - 0.000001\n",
    "x_axis_2 = list(x_axis_2) + list(x_axis)\n",
    "x_axis_2.sort()\n",
    "\n",
    "# ponto medio\n",
    "A = [(p.subs(x, x_axis[i]) + p.subs(x, x_axis[i+1]))/2 for i in range(len(x_axis) - 1)]\n",
    "A += [np.nan]\n",
    "A = list(A)\n",
    "A2= []\n",
    "for i in range(len(A)):\n",
    "    A2.append(A[i]) \n",
    "    A2.append(A[i]) \n",
    "\n",
    "plt.plot(x_axis_3, y_axis_3)\n",
    "plt.plot(x_axis, y_axis)\n",
    "plt.scatter(x_axis, y_axis)\n",
    "plt.plot(x_axis_2, A2)"
   ]
  },
  {
   "cell_type": "code",
   "execution_count": 4,
   "metadata": {},
   "outputs": [],
   "source": [
    "def trapezio(x, y):\n",
    "    s = 0\n",
    "    n = len(x)\n",
    "    for i in range(n-1):\n",
    "        s += (x[i+1]-x[i])/2 * (y[i] + y[i+1])\n",
    "    return s"
   ]
  },
  {
   "cell_type": "code",
   "execution_count": 6,
   "metadata": {},
   "outputs": [
    {
     "data": {
      "image/png": "[encoded data removed]",
      "text/latex": [
       "$\\displaystyle 0.674912461920309$"
      ],
      "text/plain": [
       "0.674912461920309"
      ]
     },
     "execution_count": 6,
     "metadata": {},
     "output_type": "execute_result"
    }
   ],
   "source": [
    "x_axis = np.linspace(-2, 2, 100)\n",
    "y_axis = np.exp(-x_axis**2/2) / (2*np.sqrt(np.pi))\n",
    "\n",
    "s = 0\n",
    "n = len(x_axis)\n",
    "h = x_axis[1] - x_axis[0]\n",
    "s += y_axis[0]\n",
    "s += y_axis[n-1]\n",
    "for i in range(1, n-1):\n",
    "    s += 2*y_axis[i]\n",
    "s *= h / 2\n",
    "s\n",
    "\n"
   ]
  },
  {
   "cell_type": "markdown",
   "metadata": {},
   "source": [
    "## Regra de Simpson"
   ]
  },
  {
   "cell_type": "code",
   "execution_count": 6,
   "metadata": {},
   "outputs": [],
   "source": [
    "#(x[2]-x[0])/6 * (y[0] + 4*y[1] + y[2])"
   ]
  },
  {
   "cell_type": "code",
   "execution_count": 81,
   "metadata": {},
   "outputs": [],
   "source": [
    "x = np.array([0, 0.2, 0.4, 0.6])\n",
    "y = np.array([-1, -0.5, 1.3, 2])\n",
    "n = len(x)\n",
    "\n",
    "\n",
    "def simpson_integrate(x, y):\n",
    "    s = 0\n",
    "    n = len(x)\n",
    "    n1 = n-(n%2)\n",
    "\n",
    "    for i in range(2,n,2):\n",
    "        s += (x[i]-x[i-2])/6 * (y[i-2] + 4*y[i-1] + y[i])\n",
    "    \n",
    "    if (n%2 == 0):\n",
    "        s += (x[n-1]-x[n-2])/2 * (y[n-2] + y[n-1])\n",
    "    \n",
    "    return s\n"
   ]
  },
  {
   "cell_type": "code",
   "execution_count": 8,
   "metadata": {},
   "outputs": [
    {
     "data": {
      "image/png": "[encoded data removed]",
      "text/latex": [
       "$\\displaystyle 0.74718042890951$"
      ],
      "text/plain": [
       "0.7471804289095104"
      ]
     },
     "execution_count": 8,
     "metadata": {},
     "output_type": "execute_result"
    }
   ],
   "source": [
    "x = np.array([0, 0.5, 1])\n",
    "y = np.exp(-x**2)\n",
    "\n",
    "simpson_integrate(x, y)"
   ]
  },
  {
   "cell_type": "code",
   "execution_count": 9,
   "metadata": {},
   "outputs": [
    {
     "data": {
      "image/png": "[encoded data removed]",
      "text/latex": [
       "$\\displaystyle 0.632333680003663$"
      ],
      "text/plain": [
       "0.6323336800036626"
      ]
     },
     "execution_count": 9,
     "metadata": {},
     "output_type": "execute_result"
    }
   ],
   "source": [
    "x = np.array([0, 0.5, 1])\n",
    "y = np.exp(-x)\n",
    "simpson_integrate(x, y)"
   ]
  },
  {
   "cell_type": "code",
   "execution_count": 10,
   "metadata": {},
   "outputs": [
    {
     "data": {
      "image/png": "[encoded data removed]",
      "text/latex": [
       "$\\displaystyle 0.333333333333333$"
      ],
      "text/plain": [
       "0.3333333333333333"
      ]
     },
     "execution_count": 10,
     "metadata": {},
     "output_type": "execute_result"
    }
   ],
   "source": [
    "x = np.array([0, 0.5, 1])\n",
    "y = x**2\n",
    "simpson_integrate(x, y)"
   ]
  },
  {
   "cell_type": "code",
   "execution_count": 11,
   "metadata": {},
   "outputs": [
    {
     "data": {
      "image/png": "[encoded data removed]",
      "text/latex": [
       "$\\displaystyle 0.25$"
      ],
      "text/plain": [
       "0.25"
      ]
     },
     "execution_count": 11,
     "metadata": {},
     "output_type": "execute_result"
    }
   ],
   "source": [
    "x = np.array([0, 0.5, 1])\n",
    "y = x**3\n",
    "simpson_integrate(x, y)"
   ]
  },
  {
   "cell_type": "code",
   "execution_count": 12,
   "metadata": {},
   "outputs": [
    {
     "data": {
      "image/png": "[encoded data removed]",
      "text/latex": [
       "$\\displaystyle 0.320913501219042$"
      ],
      "text/plain": [
       "0.320913501219042"
      ]
     },
     "execution_count": 12,
     "metadata": {},
     "output_type": "execute_result"
    }
   ],
   "source": [
    "x = np.array([0, 0.5, 1])\n",
    "y = x * np.exp(-x**2)\n",
    "simpson_integrate(x, y)"
   ]
  },
  {
   "cell_type": "code",
   "execution_count": 82,
   "metadata": {},
   "outputs": [
    {
     "name": "stdout",
     "output_type": "stream",
     "text": [
      "n = 3\n",
      "3.7229437229437234\n",
      "n = 4\n",
      "3.8780935021536522\n",
      "n = 5\n",
      "3.9397080906514863\n",
      "n = 6\n",
      "3.980093545310936\n",
      "n = 7\n",
      "3.9902293776108753\n",
      "n = 8\n",
      "3.9969152339263334\n",
      "n = 9\n",
      "3.997571372656896\n"
     ]
    }
   ],
   "source": [
    "for i in range(3, 10, 1):\n",
    "    x = np.linspace(0, 1, i)\n",
    "    y = 1/(x**2+0.1)\n",
    "    print(f'n = {i}')\n",
    "    print(simpson_integrate(x, y))\n",
    "    \n"
   ]
  },
  {
   "cell_type": "code",
   "execution_count": 84,
   "metadata": {},
   "outputs": [
    {
     "data": {
      "image/png": "[encoded data removed]",
      "text/latex": [
       "$\\displaystyle -1.65289256198347$"
      ],
      "text/plain": [
       "-1.65289256198347"
      ]
     },
     "execution_count": 84,
     "metadata": {},
     "output_type": "execute_result"
    }
   ],
   "source": [
    "\n",
    "x = sp.Symbol('x')\n",
    "f = 1/(x**2+0.1)\n",
    "f = f.diff(x)\n",
    "f.subs(x, 1) - f.subs(x, 0)"
   ]
  },
  {
   "cell_type": "code",
   "execution_count": 85,
   "metadata": {},
   "outputs": [
    {
     "data": {
      "image/png": "[encoded data removed]",
      "text/latex": [
       "$\\displaystyle 0.35$"
      ],
      "text/plain": [
       "0.35"
      ]
     },
     "execution_count": 85,
     "metadata": {},
     "output_type": "execute_result"
    }
   ],
   "source": [
    "x = np.array([0, 0.5, 1])\n",
    "y = x/(x**2+1)\n",
    "simpson_integrate(x, y)"
   ]
  },
  {
   "cell_type": "code",
   "execution_count": 86,
   "metadata": {},
   "outputs": [
    {
     "name": "stdout",
     "output_type": "stream",
     "text": [
      "n = 3: 0.5005225174937314\n",
      "n = 5: 0.27849922706686875\n",
      "n = 7: 0.23935507770462106\n",
      "n = 9: 0.2306618390209549\n",
      "\n",
      "n = 3: 0.5005225174937314\n",
      "n = 5: 0.27849922706686875\n",
      "n = 7: 0.23935507770462106\n",
      "n = 9: 0.2306618390209549\n"
     ]
    }
   ],
   "source": [
    "n = 3\n",
    "a = 2\n",
    "b = 5\n",
    "for n in range(3, 11, 2):\n",
    "    x = np.linspace(a, b, n)\n",
    "    y = np.exp(4-x**2)\n",
    "    print(f'n = {n}: {simpson_integrate(x, y)}')\n",
    "print()\n",
    "for n in range(3, 11, 2):\n",
    "    x = np.linspace(a, b, n)\n",
    "    y = np.exp(4-x**2)\n",
    "    print(f'n = {n}: {simpson_integrate(x, y)}')"
   ]
  },
  {
   "cell_type": "markdown",
   "metadata": {},
   "source": [
    "## Quadratura de Gauss-Legendre"
   ]
  },
  {
   "cell_type": "code",
   "execution_count": 87,
   "metadata": {},
   "outputs": [
    {
     "data": {
      "image/png": "[encoded data removed]",
      "text/latex": [
       "$\\displaystyle 2.34269608790973$"
      ],
      "text/plain": [
       "2.34269608790973"
      ]
     },
     "execution_count": 87,
     "metadata": {},
     "output_type": "execute_result"
    }
   ],
   "source": [
    "x = sp.Symbol('x')\n",
    "f = sp.exp(x)\n",
    "a = -1\n",
    "b = 1\n",
    "float(sp.integrate(f).subs(x, b) - sp.integrate(f).subs(x, a))\n",
    "\n",
    "f.subs(x, (b-1) - 1/np.sqrt(3)) + f.subs(x, (b-1) + 1/np.sqrt(3))"
   ]
  }
 ],
 "metadata": {
  "kernelspec": {
   "display_name": "Python 3",
   "language": "python",
   "name": "python3"
  },
  "language_info": {
   "codemirror_mode": {
    "name": "ipython",
    "version": 3
   },
   "file_extension": ".py",
   "mimetype": "text/x-python",
   "name": "python",
   "nbconvert_exporter": "python",
   "pygments_lexer": "ipython3",
   "version": "3.9.7"
  }
 },
 "nbformat": 4,
 "nbformat_minor": 2
}
