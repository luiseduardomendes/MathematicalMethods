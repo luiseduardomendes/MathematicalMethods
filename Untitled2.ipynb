{
 "cells": [
  {
   "cell_type": "markdown",
   "metadata": {},
   "source": [
    "## Obtenção de fórmulas por polinômios interpoladores\n",
    "\n",
    "$f(x) = f(x_0)L_0(x) + f(x_1)L_1(x) + f(x_2)L_2(x)$"
   ]
  },
  {
   "cell_type": "code",
   "execution_count": 40,
   "metadata": {},
   "outputs": [
    {
     "data": {
      "image/png": "[encoded data removed]",
      "text/latex": [
       "$$\\left[\\begin{matrix}- \\frac{1}{2 h}\\\\0\\\\\\frac{1}{2 h}\\end{matrix}\\right]$$"
      ],
      "text/plain": [
       "⎡-1 ⎤\n",
       "⎢───⎥\n",
       "⎢2⋅h⎥\n",
       "⎢   ⎥\n",
       "⎢ 0 ⎥\n",
       "⎢   ⎥\n",
       "⎢ 1 ⎥\n",
       "⎢───⎥\n",
       "⎣2⋅h⎦"
      ]
     },
     "execution_count": 40,
     "metadata": {},
     "output_type": "execute_result"
    }
   ],
   "source": [
    "import matplotlib.pyplot as plt\n",
    "import sympy as sp\n",
    "sp.init_printing()\n",
    "\n",
    "x = sp.Symbol('x')\n",
    "\n",
    "c1, c2, c3 = sp.symbols(['c1', 'c2', 'c3'])\n",
    "h = sp.Symbol('h')\n",
    "\n",
    "x_ = [-h, 0, h]\n",
    "\n",
    "n = len(x_)\n",
    "f_ = [x**k for k in range (n)]\n",
    "f_1 = [f.diff(x) for f in f_]\n",
    "\n",
    "A = sp.Matrix([[f.subs(x, i) for i in x_] for f in f_]) \n",
    "b = sp.Matrix([[f.subs(x, 0)] for f in f_1])\n",
    "\n",
    "xa = (A.inv()*b)\n",
    "xa\n"
   ]
  }
 ],
 "metadata": {
  "kernelspec": {
   "display_name": "Python 3",
   "language": "python",
   "name": "python3"
  },
  "language_info": {
   "codemirror_mode": {
    "name": "ipython",
    "version": 3
   },
   "file_extension": ".py",
   "mimetype": "text/x-python",
   "name": "python",
   "nbconvert_exporter": "python",
   "pygments_lexer": "ipython3",
   "version": "3.6.4"
  }
 },
 "nbformat": 4,
 "nbformat_minor": 2
}
