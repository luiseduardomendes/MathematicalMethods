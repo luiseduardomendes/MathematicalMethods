{
 "cells": [
  {
   "cell_type": "markdown",
   "metadata": {},
   "source": [
    "# Integração Numérica\n"
   ]
  },
  {
   "cell_type": "markdown",
   "metadata": {},
   "source": [
    "## 9.1 Somas de Riemann\n",
    "\n"
   ]
  },
  {
   "cell_type": "code",
   "execution_count": 1,
   "metadata": {},
   "outputs": [
    {
     "data": {
      "text/plain": [
       "<matplotlib.figure.Figure at 0x9a21f60>"
      ]
     },
     "metadata": {},
     "output_type": "display_data"
    }
   ],
   "source": [
    "import matplotlib.pyplot as plt\n",
    "import numpy as np\n",
    "import sympy as sp\n",
    "\n",
    "sp.init_printing()\n",
    "\n",
    "x = sp.Symbol('x')\n",
    "x_ = np.linspace(0, 1, 100)\n",
    "y_ = np.sin(x_) * np.exp(-x_)\n",
    "\n",
    "plt.plot(x_, y_)\n",
    "plt.grid()\n",
    "plt.show()"
   ]
  },
  {
   "cell_type": "markdown",
   "metadata": {},
   "source": [
    "## 9.2 Regras de Newton-Cotes\n"
   ]
  },
  {
   "cell_type": "code",
   "execution_count": 2,
   "metadata": {},
   "outputs": [],
   "source": [
    "def lagrangian_polynomial(x0, y0, x):\n",
    "    n = len(x0)\n",
    "\n",
    "    L = [1 for _ in range(n)]\n",
    "    for k in range(n):\n",
    "        for j in range(n):\n",
    "            if (k != j):\n",
    "                L[k] *= (x - x0[j])/(x0[k] - x0[j])\n",
    "    p = 0\n",
    "    for k in range(n):\n",
    "        p += L[k] * y0[k]\n",
    "    p = sp.simplify(p)\n",
    "    return p"
   ]
  },
  {
   "cell_type": "code",
   "execution_count": 3,
   "metadata": {},
   "outputs": [
    {
     "data": {
      "text/plain": [
       "[<matplotlib.lines.Line2D at 0x99aaf98>]"
      ]
     },
     "execution_count": 3,
     "metadata": {},
     "output_type": "execute_result"
    },
    {
     "data": {
      "image/png": "[encoded data removed]",
      "text/plain": [
       "<matplotlib.figure.Figure at 0x58a8e80>"
      ]
     },
     "metadata": {},
     "output_type": "display_data"
    }
   ],
   "source": [
    "f = sp.cos(x)\n",
    "x_axis = np.linspace(0, 1, 4)\n",
    "y_axis = [f.subs(x, x0) for x0 in x_axis]\n",
    "p = lagrangian_polynomial(x_axis, y_axis, x)\n",
    "h = x_axis[1] - x_axis[0]\n",
    "\n",
    "x_axis_3 = np.linspace(0, 1, 100)\n",
    "y_axis_3 = [f.subs(x, x0) for x0 in x_axis_3]\n",
    "\n",
    "x_axis_2 = x_axis + h - 0.000001\n",
    "x_axis_2 = list(x_axis_2) + list(x_axis)\n",
    "x_axis_2.sort()\n",
    "\n",
    "# ponto medio\n",
    "A = [(p.subs(x, x_axis[i]) + p.subs(x, x_axis[i+1]))/2 for i in range(len(x_axis) - 1)]\n",
    "A += [np.nan]\n",
    "A = list(A)\n",
    "A2= []\n",
    "for i in range(len(A)):\n",
    "    A2.append(A[i]) \n",
    "    A2.append(A[i]) \n",
    "\n",
    "plt.plot(x_axis_3, y_axis_3)\n",
    "plt.plot(x_axis, y_axis)\n",
    "plt.scatter(x_axis, y_axis)\n",
    "plt.plot(x_axis_2, A2)"
   ]
  },
  {
   "cell_type": "code",
   "execution_count": 4,
   "metadata": {},
   "outputs": [],
   "source": [
    "def trapezio(x, y):\n",
    "    s = 0\n",
    "    n = len(x)\n",
    "    for i in range(n-1):\n",
    "        s += (x[i+1]-x[i])/2 * (y[i] + y[i+1])\n",
    "    return s"
   ]
  },
  {
   "cell_type": "code",
   "execution_count": 5,
   "metadata": {},
   "outputs": [
    {
     "data": {
      "image/png": "[encoded data removed]",
      "text/latex": [
       "$$0.674912461920309$$"
      ],
      "text/plain": [
       "0.674912461920309"
      ]
     },
     "execution_count": 5,
     "metadata": {},
     "output_type": "execute_result"
    }
   ],
   "source": [
    "x_axis = np.linspace(-2, 2, 100)\n",
    "y_axis = np.exp(-x_axis**2/2) / (2*np.sqrt(np.pi))\n",
    "\n",
    "s = 0\n",
    "n = len(x_axis)\n",
    "h = x_axis[1] - x_axis[0]\n",
    "s += y_axis[0]\n",
    "s += y_axis[n-1]\n",
    "for i in range(1, n-1):\n",
    "    s += 2*y_axis[i]\n",
    "s *= h / 2\n",
    "s\n",
    "\n"
   ]
  },
  {
   "cell_type": "markdown",
   "metadata": {},
   "source": [
    "## Regra de Simpson"
   ]
  },
  {
   "cell_type": "code",
   "execution_count": 6,
   "metadata": {},
   "outputs": [],
   "source": [
    "#(x[2]-x[0])/6 * (y[0] + 4*y[1] + y[2])"
   ]
  },
  {
   "cell_type": "code",
   "execution_count": 7,
   "metadata": {},
   "outputs": [
    {
     "data": {
      "image/png": "[encoded data removed]",
      "text/latex": [
       "$$0.21666666666666656$$"
      ],
      "text/plain": [
       "0.21666666666666656"
      ]
     },
     "execution_count": 7,
     "metadata": {},
     "output_type": "execute_result"
    }
   ],
   "source": [
    "x = np.array([0, 0.2, 0.4, 0.6])\n",
    "y = np.array([-1, -0.5, 1.3, 2])\n",
    "n = len(x)\n",
    "\n",
    "\n",
    "def simpson_integrate(x, y):\n",
    "    s = 0\n",
    "    n = len(x)\n",
    "    n1 = n-(n%3)\n",
    "    \n",
    "    for i in range(2,n1,3):\n",
    "        s += (x[i]-x[i-2])/6 * (y[i-2] + 4*y[i-1] + y[i])\n",
    "    \n",
    "    for j in range(n1-1, n-1):\n",
    "        s += (x[j+1]-x[j])/2 * (y[j] + y[j+1])\n",
    "    \n",
    "    return s\n",
    "\n",
    "simpson_integrate(x, y)"
   ]
  },
  {
   "cell_type": "code",
   "execution_count": 8,
   "metadata": {},
   "outputs": [
    {
     "data": {
      "image/png": "[encoded data removed]",
      "text/latex": [
       "$$0.7471804289095104$$"
      ],
      "text/plain": [
       "0.7471804289095104"
      ]
     },
     "execution_count": 8,
     "metadata": {},
     "output_type": "execute_result"
    }
   ],
   "source": [
    "x = np.array([0, 0.5, 1])\n",
    "y = np.exp(-x**2)\n",
    "\n",
    "simpson_integrate(x, y)"
   ]
  },
  {
   "cell_type": "code",
   "execution_count": 9,
   "metadata": {},
   "outputs": [
    {
     "data": {
      "image/png": "[encoded data removed]",
      "text/latex": [
       "$$0.6323336800036626$$"
      ],
      "text/plain": [
       "0.6323336800036626"
      ]
     },
     "execution_count": 9,
     "metadata": {},
     "output_type": "execute_result"
    }
   ],
   "source": [
    "x = np.array([0, 0.5, 1])\n",
    "y = np.exp(-x)\n",
    "simpson_integrate(x, y)"
   ]
  },
  {
   "cell_type": "code",
   "execution_count": 10,
   "metadata": {},
   "outputs": [
    {
     "data": {
      "image/png": "[encoded data removed]",
      "text/latex": [
       "$$0.3333333333333333$$"
      ],
      "text/plain": [
       "0.3333333333333333"
      ]
     },
     "execution_count": 10,
     "metadata": {},
     "output_type": "execute_result"
    }
   ],
   "source": [
    "x = np.array([0, 0.5, 1])\n",
    "y = x**2\n",
    "simpson_integrate(x, y)"
   ]
  },
  {
   "cell_type": "code",
   "execution_count": 11,
   "metadata": {},
   "outputs": [
    {
     "data": {
      "image/png": "[encoded data removed]",
      "text/latex": [
       "$$0.25$$"
      ],
      "text/plain": [
       "0.25"
      ]
     },
     "execution_count": 11,
     "metadata": {},
     "output_type": "execute_result"
    }
   ],
   "source": [
    "x = np.array([0, 0.5, 1])\n",
    "y = x**3\n",
    "simpson_integrate(x, y)"
   ]
  },
  {
   "cell_type": "code",
   "execution_count": 12,
   "metadata": {},
   "outputs": [
    {
     "data": {
      "image/png": "[encoded data removed]",
      "text/latex": [
       "$$0.320913501219042$$"
      ],
      "text/plain": [
       "0.320913501219042"
      ]
     },
     "execution_count": 12,
     "metadata": {},
     "output_type": "execute_result"
    }
   ],
   "source": [
    "x = np.array([0, 0.5, 1])\n",
    "y = x * np.exp(-x**2)\n",
    "simpson_integrate(x, y)"
   ]
  },
  {
   "cell_type": "code",
   "execution_count": 13,
   "metadata": {},
   "outputs": [
    {
     "name": "stdout",
     "output_type": "stream",
     "text": [
      "n = 10\n",
      "3.1336959931352677\n",
      "3.997062820097476\n",
      "\n",
      "n = 13\n",
      "3.009183234903041\n",
      "3.9978045010727135\n",
      "\n",
      "n = 16\n",
      "2.936830597854651\n",
      "3.9981482720809773\n",
      "\n",
      "n = 19\n",
      "2.8899010305508392\n",
      "3.9983351187943645\n",
      "\n",
      "n = 22\n",
      "2.8569609736388992\n",
      "3.998447817836513\n",
      "\n",
      "n = 25\n",
      "2.8325273835863007\n",
      "3.998520978508017\n",
      "\n",
      "n = 28\n",
      "2.813663185994308\n",
      "3.9985711438959592\n",
      "\n",
      "n = 31\n",
      "2.7986505144032683\n",
      "3.998607030234398\n",
      "\n",
      "n = 34\n",
      "2.7864150454912346\n",
      "3.9986335838554594\n",
      "\n",
      "n = 37\n",
      "2.7762493076253008\n",
      "3.9986537810810034\n",
      "\n",
      "n = 40\n",
      "2.7676679283607206\n",
      "3.9986694998810695\n",
      "\n",
      "n = 43\n",
      "2.7603266098978407\n",
      "3.9986819726472995\n",
      "\n",
      "n = 46\n",
      "2.753974246453067\n",
      "3.998692035283424\n",
      "\n",
      "n = 49\n",
      "2.7484233410718213\n",
      "3.9987002709764363\n",
      "\n",
      "n = 52\n",
      "2.743531036299368\n",
      "3.9987070966282956\n",
      "\n",
      "n = 55\n",
      "2.7391865599986205\n",
      "3.9987128166684247\n",
      "\n",
      "n = 58\n",
      "2.7353026870998494\n",
      "3.99871765759336\n",
      "\n",
      "n = 61\n",
      "2.731809792781061\n",
      "3.998721790736618\n",
      "\n",
      "n = 64\n",
      "2.728651622797638\n",
      "3.998725347638841\n",
      "\n",
      "n = 67\n",
      "2.7257822285794413\n",
      "3.9987284306441264\n",
      "\n",
      "n = 70\n",
      "2.7231637090293113\n",
      "3.9987311203448\n",
      "\n",
      "n = 73\n",
      "2.7207645215525313\n",
      "3.9987334809020783\n",
      "\n",
      "n = 76\n",
      "2.718558201564257\n",
      "3.998735563907993\n",
      "\n",
      "n = 79\n",
      "2.7165223796221385\n",
      "3.99873741122841\n",
      "\n",
      "n = 82\n",
      "2.7146380184470233\n",
      "3.9987390571231263\n",
      "\n",
      "n = 85\n",
      "2.712888814475848\n",
      "3.9987405298457794\n",
      "\n",
      "n = 88\n",
      "2.711260723971316\n",
      "3.998741852864461\n",
      "\n",
      "n = 91\n",
      "2.7097415844452994\n",
      "3.9987430458024416\n",
      "\n",
      "n = 94\n",
      "2.7083208097475455\n",
      "3.9987441251700027\n",
      "\n",
      "n = 97\n",
      "2.7069891426160986\n",
      "3.998745104938781\n",
      "\n"
     ]
    }
   ],
   "source": [
    "for i in range(10, 100, 3):\n",
    "    x = np.linspace(0, 1, i)\n",
    "    y = 1/(x**2+0.1)\n",
    "    \n",
    "    print(f'n = {i}')\n",
    "    print(simpson_integrate(x, y))\n",
    "    print(trapezio(x, y))\n",
    "    print()\n",
    "    \n"
   ]
  },
  {
   "cell_type": "code",
   "execution_count": 14,
   "metadata": {},
   "outputs": [
    {
     "data": {
      "image/png": "[encoded data removed]",
      "text/latex": [
       "$$-1.65289256198347$$"
      ],
      "text/plain": [
       "-1.65289256198347"
      ]
     },
     "execution_count": 14,
     "metadata": {},
     "output_type": "execute_result"
    }
   ],
   "source": [
    "\n",
    "x = sp.Symbol('x')\n",
    "f = 1/(x**2+0.1)\n",
    "f = f.diff(x)\n",
    "f.subs(x, 1) - f.subs(x, 0)"
   ]
  },
  {
   "cell_type": "code",
   "execution_count": 15,
   "metadata": {},
   "outputs": [
    {
     "data": {
      "image/png": "[encoded data removed]",
      "text/latex": [
       "$$0.35$$"
      ],
      "text/plain": [
       "0.35"
      ]
     },
     "execution_count": 15,
     "metadata": {},
     "output_type": "execute_result"
    }
   ],
   "source": [
    "x = np.array([0, 0.5, 1])\n",
    "y = x/(x**2+1)\n",
    "simpson_integrate(x, y)"
   ]
  },
  {
   "cell_type": "code",
   "execution_count": 16,
   "metadata": {},
   "outputs": [
    {
     "name": "stdout",
     "output_type": "stream",
     "text": [
      "n = 3: 0.5005225174937314\n",
      "n = 5: 0.2785316891940783\n",
      "n = 7: 0.23810348348280788\n",
      "n = 9: 0.22599987429087876\n",
      "\n",
      "n = 3: 0.5005225174937314\n",
      "n = 5: 0.2785316891940783\n",
      "n = 7: 0.23810348348280788\n",
      "n = 9: 0.22599987429087876\n"
     ]
    }
   ],
   "source": [
    "n = 3\n",
    "a = 2\n",
    "b = 5\n",
    "for n in range(3, 11, 2):\n",
    "    x = np.linspace(a, b, n)\n",
    "    y = np.exp(4-x**2)\n",
    "    print(f'n = {n}: {simpson_integrate(x, y)}')\n",
    "print()\n",
    "for n in range(3, 11, 2):\n",
    "    x = np.linspace(a, b, n)\n",
    "    y = np.exp(4-x**2)\n",
    "    print(f'n = {n}: {simpson_integrate(x, y)}')"
   ]
  },
  {
   "cell_type": "markdown",
   "metadata": {},
   "source": [
    "## Quadratura de Gauss-Legendre"
   ]
  },
  {
   "cell_type": "code",
   "execution_count": 32,
   "metadata": {},
   "outputs": [
    {
     "data": {
      "image/png": "[encoded data removed]",
      "text/latex": [
       "$$2.34269608790973$$"
      ],
      "text/plain": [
       "2.34269608790973"
      ]
     },
     "execution_count": 32,
     "metadata": {},
     "output_type": "execute_result"
    }
   ],
   "source": [
    "x = sp.Symbol('x')\n",
    "f = sp.exp(x)\n",
    "a = -1\n",
    "b = 1\n",
    "float(sp.integrate(f).subs(x, b) - sp.integrate(f).subs(x, a))\n",
    "\n",
    "f.subs(x, (b-1) - 1/np.sqrt(3)) + f.subs(x, (b-1) + 1/np.sqrt(3))"
   ]
  }
 ],
 "metadata": {
  "kernelspec": {
   "display_name": "Python 3",
   "language": "python",
   "name": "python3"
  },
  "language_info": {
   "codemirror_mode": {
    "name": "ipython",
    "version": 3
   },
   "file_extension": ".py",
   "mimetype": "text/x-python",
   "name": "python",
   "nbconvert_exporter": "python",
   "pygments_lexer": "ipython3",
   "version": "3.6.4"
  }
 },
 "nbformat": 4,
 "nbformat_minor": 2
}
