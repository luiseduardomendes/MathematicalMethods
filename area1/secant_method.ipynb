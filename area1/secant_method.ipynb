{
 "cells": [
  {
   "cell_type": "code",
   "execution_count": 15,
   "metadata": {},
   "outputs": [],
   "source": [
    "import sympy as sp\n",
    "import numpy as np\n",
    "\n",
    "x = sp.symbols('x')"
   ]
  },
  {
   "cell_type": "code",
   "execution_count": 16,
   "metadata": {},
   "outputs": [],
   "source": [
    "def plot(f, min_x, max_x, x0 = None, x1 = None):\n",
    "    x_axis = np.linspace(min_x, max_x, 1000)\n",
    "    y_axis = []\n",
    "    for x_ in x_axis:\n",
    "        y_ = f.subs(x, x_)\n",
    "        y_axis.append(y_)\n",
    "    \n",
    "    plt.grid()\n",
    "    plt.plot(x_axis, y_axis)\n",
    "    \n",
    "    if x0 != None and x1 != None:\n",
    "        f_1 = (f.subs(x, x1) - f.subs(x, x0)) / (x1 - x0)\n",
    "        y_axis = []\n",
    "        for x_ in x_axis:\n",
    "            y_ = f_1.subs(x, x_)\n",
    "            y_axis.append(y_)\n",
    "        plt.plot(x_axis, y_axis)\n",
    "        plt.scatter([x0, x1], [float(f.subs(x, x0)), float(f.subs(x, x1))])\n",
    "    plt.show()"
   ]
  },
  {
   "cell_type": "code",
   "execution_count": 27,
   "metadata": {},
   "outputs": [],
   "source": [
    "def sec(f, x0, x1):\n",
    "    return float(x1 - f.subs(x, x1) * (x1 - x0) / (f.subs(x, x1) - f.subs(x, x0)))"
   ]
  },
  {
   "cell_type": "code",
   "execution_count": 24,
   "metadata": {},
   "outputs": [],
   "source": [
    "def secant_method(f, x0, x1, tol, N):\n",
    "    x2 = sec(f, x0, x1)\n",
    "    num_it = 1\n",
    "    while float(abs(x2 - x1)) > tol and num_it < N:\n",
    "        x0 = x1\n",
    "        x1 = x2\n",
    "        x2 = sec(f, x0, x1)\n",
    "        num_it += 1\n",
    "    return x2"
   ]
  },
  {
   "cell_type": "code",
   "execution_count": 25,
   "metadata": {},
   "outputs": [],
   "source": [
    "f = sp.cos(10 * x) - sp.exp(-x)"
   ]
  },
  {
   "cell_type": "code",
   "execution_count": 32,
   "metadata": {},
   "outputs": [
    {
     "data": {
      "text/plain": [
       "-1.2238475321042735e-13"
      ]
     },
     "execution_count": 32,
     "metadata": {},
     "output_type": "execute_result"
    }
   ],
   "source": [
    "secant_method(f, 0.05, 0.95, 0.5*10**-6, 10000)"
   ]
  }
 ],
 "metadata": {
  "kernelspec": {
   "display_name": "Python 3",
   "language": "python",
   "name": "python3"
  },
  "language_info": {
   "codemirror_mode": {
    "name": "ipython",
    "version": 3
   },
   "file_extension": ".py",
   "mimetype": "text/x-python",
   "name": "python",
   "nbconvert_exporter": "python",
   "pygments_lexer": "ipython3",
   "version": "3.6.4"
  }
 },
 "nbformat": 4,
 "nbformat_minor": 2
}
