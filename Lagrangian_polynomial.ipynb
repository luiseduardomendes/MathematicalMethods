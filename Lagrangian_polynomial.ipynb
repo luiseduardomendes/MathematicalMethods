{
 "cells": [
  {
   "cell_type": "code",
   "execution_count": 12,
   "metadata": {},
   "outputs": [],
   "source": [
    "import matplotlib.pyplot as plt\n",
    "import sympy as sp\n",
    "import numpy as np\n",
    "\n",
    "def lagrangian_polynomial(x0, y0, x):\n",
    "    n = len(x0)\n",
    "\n",
    "    L = [1 for _ in range(n)]\n",
    "    for k in range(n):\n",
    "        for j in range(n):\n",
    "            if (k != j):\n",
    "                L[k] *= (x - x0[j])/(x0[k] - x0[j])\n",
    "    p = 0\n",
    "    for k in range(n):\n",
    "        p += L[k] * y0[k]\n",
    "    p = sp.simplify(p)\n",
    "    return p\n",
    "\n",
    "def plot_polynomial(x0, y0, p, x):\n",
    "    x_axis = np.linspace(min(x0), max(x0), 100)\n",
    "    y_axis = np.array([p.subs(x, i) for i in x_axis])\n",
    "\n",
    "    plt.plot(x_axis, y_axis)\n",
    "    plt.scatter(x0,y0)\n",
    "    plt.grid()\n",
    "    title = '$f(x)='+sp.latex(p)+'$'\n",
    "    plt.title(title)\n",
    "    plt.show()\n",
    "    title = '$'+sp.latex(p)+'$'"
   ]
  },
  {
   "cell_type": "code",
   "execution_count": 54,
   "metadata": {},
   "outputs": [
    {
     "data": {
      "image/png": "[encoded data removed]",
      "text/plain": [
       "<matplotlib.figure.Figure at 0xaf86390>"
      ]
     },
     "metadata": {},
     "output_type": "display_data"
    }
   ],
   "source": [
    "x = sp.Symbol('x')\n",
    "\n",
    "f = sp.cos(x)\n",
    "x0 = [0, 0.25, 0.5, 0.75, 1]\n",
    "\n",
    "n = len(x0)\n",
    "x0 = np.array(x0)\n",
    "y0 = np.array([f.subs(x, _) for _ in x0])\n",
    "\n",
    "x1 = np.linspace(min(x0), max(x0), 100)\n",
    "y1 = np.array([f.subs(x, _) for _ in x1])\n",
    "\n",
    "plt.plot(x1, y1)\n",
    "\n",
    "p = lagrangian_polynomial(x0, y0, x)\n",
    "plot_polynomial(x0, y0, p, x)"
   ]
  },
  {
   "cell_type": "code",
   "execution_count": 55,
   "metadata": {},
   "outputs": [
    {
     "data": {
      "text/plain": [
       "2.48676307550619e-5"
      ]
     },
     "execution_count": 55,
     "metadata": {},
     "output_type": "execute_result"
    }
   ],
   "source": [
    "x1 = np.linspace(min(x0),max(x0),1000)\n",
    "p2 = 1\n",
    "for i in x0:\n",
    "    p2 *= (x - i)\n",
    "y1 = np.array([p2.subs(x, _) for _ in x1])\n",
    "f_ = f\n",
    "for i in range(n):\n",
    "    f_ = f_.diff(x)\n",
    "\n",
    "y3 = [y2.subs(x, _) for _ in x0]\n",
    "max(y3)/sp.factorial(n) * max(y1)"
   ]
  },
  {
   "cell_type": "code",
   "execution_count": null,
   "metadata": {},
   "outputs": [],
   "source": []
  }
 ],
 "metadata": {
  "kernelspec": {
   "display_name": "Python 3",
   "language": "python",
   "name": "python3"
  },
  "language_info": {
   "codemirror_mode": {
    "name": "ipython",
    "version": 3
   },
   "file_extension": ".py",
   "mimetype": "text/x-python",
   "name": "python",
   "nbconvert_exporter": "python",
   "pygments_lexer": "ipython3",
   "version": "3.6.4"
  }
 },
 "nbformat": 4,
 "nbformat_minor": 2
}
