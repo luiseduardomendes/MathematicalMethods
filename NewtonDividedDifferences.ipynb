{
 "cells": [
  {
   "cell_type": "code",
   "execution_count": 3,
   "metadata": {},
   "outputs": [
    {
     "data": {
      "image/png": "[encoded data removed]",
      "text/latex": [
       "$$- 0.429725635825212 x^{2} - 0.0299720583066487 x + 1.0$$"
      ],
      "text/plain": [
       "                     2                             \n",
       "- 0.429725635825212⋅x  - 0.0299720583066487⋅x + 1.0"
      ]
     },
     "execution_count": 3,
     "metadata": {},
     "output_type": "execute_result"
    }
   ],
   "source": [
    "import sympy as sp\n",
    "import numpy as np\n",
    "\n",
    "x = [0, 0.5, 1]\n",
    "y = [np.cos(0), np.cos(0.5), np.cos(1)]\n",
    "\n",
    "n = len(x)\n",
    "k = [[0 for __ in range (n)] for _ in range(n)]\n",
    "\n",
    "for i in range(n):\n",
    "    k[0][i] = y[i]\n",
    "\n",
    "for i in range(1, n):\n",
    "    for j in range(0, n-i):\n",
    "        k[i][j] = (k[i-1][j+1] - k[i-1][j]) / (x[j+i] - x[j])\n",
    "\n",
    "a = []\n",
    "\n",
    "for i in range(n):\n",
    "    a.append(k[i][0])\n",
    "x0 = x\n",
    "y0 = y\n",
    "\n",
    "sp.init_printing()\n",
    "x = sp.Symbol('x')\n",
    "\n",
    "p = a[0] + a[1] * (x - x0[0]) + a[2] * (x - x0[0])*(x - x0[1])\n",
    "p = 0\n",
    "for i in range(n):\n",
    "    c = 1\n",
    "    for j in range(0, i):\n",
    "        c *= (x - x0[j])\n",
    "    p += a[i] * c\n",
    "sp.simplify(p)"
   ]
  },
  {
   "cell_type": "code",
   "execution_count": null,
   "metadata": {},
   "outputs": [],
   "source": [
    "\n"
   ]
  },
  {
   "cell_type": "code",
   "execution_count": null,
   "metadata": {},
   "outputs": [],
   "source": []
  },
  {
   "cell_type": "code",
   "execution_count": null,
   "metadata": {},
   "outputs": [],
   "source": [
    "\n"
   ]
  }
 ],
 "metadata": {
  "kernelspec": {
   "display_name": "Python 3",
   "language": "python",
   "name": "python3"
  },
  "language_info": {
   "codemirror_mode": {
    "name": "ipython",
    "version": 3
   },
   "file_extension": ".py",
   "mimetype": "text/x-python",
   "name": "python",
   "nbconvert_exporter": "python",
   "pygments_lexer": "ipython3",
   "version": "3.6.4"
  }
 },
 "nbformat": 4,
 "nbformat_minor": 2
}
